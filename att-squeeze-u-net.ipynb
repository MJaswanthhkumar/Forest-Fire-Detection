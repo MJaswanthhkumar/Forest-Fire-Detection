{
 "cells": [
  {
   "cell_type": "code",
   "execution_count": 1,
   "id": "2c84cdb4",
   "metadata": {
    "_cell_guid": "b1076dfc-b9ad-4769-8c92-a6c4dae69d19",
    "_uuid": "8f2839f25d086af736a60e9eeb907d3b93b6e0e5",
    "execution": {
     "iopub.execute_input": "2024-04-28T21:01:36.129933Z",
     "iopub.status.busy": "2024-04-28T21:01:36.129524Z",
     "iopub.status.idle": "2024-04-28T21:01:37.079852Z",
     "shell.execute_reply": "2024-04-28T21:01:37.078736Z"
    },
    "papermill": {
     "duration": 0.963103,
     "end_time": "2024-04-28T21:01:37.082884",
     "exception": false,
     "start_time": "2024-04-28T21:01:36.119781",
     "status": "completed"
    },
    "tags": []
   },
   "outputs": [],
   "source": [
    "# This Python 3 environment comes with many helpful analytics libraries installed\n",
    "# It is defined by the kaggle/python Docker image: https://github.com/kaggle/docker-python\n",
    "# For example, here's several helpful packages to load\n",
    "\n",
    "import numpy as np # linear algebra\n",
    "import pandas as pd # data processing, CSV file I/O (e.g. pd.read_csv)\n",
    "\n",
    "\n",
    "import os\n",
    "# for dirname, _, filenames in os.walk('/kaggle/input'):\n",
    "#     for filename in filenames:\n",
    "#         print(os.path.join(dirname, filename))\n",
    "\n",
    "# You can write up to 20GB to the current directory (/kaggle/working/) that gets preserved as output when you create a version using \"Save & Run All\" \n",
    "# You can also write temporary files to /kaggle/temp/, but they won't be saved outside of the current session"
   ]
  },
  {
   "cell_type": "code",
   "execution_count": null,
   "id": "7ca4cc30",
   "metadata": {
    "execution": {
     "iopub.execute_input": "2024-04-28T13:11:21.789239Z",
     "iopub.status.busy": "2024-04-28T13:11:21.788821Z",
     "iopub.status.idle": "2024-04-28T13:11:38.950205Z",
     "shell.execute_reply": "2024-04-28T13:11:38.948744Z",
     "shell.execute_reply.started": "2024-04-28T13:11:21.789207Z"
    },
    "papermill": {
     "duration": null,
     "end_time": null,
     "exception": false,
     "start_time": "2024-04-28T21:01:37.090823",
     "status": "running"
    },
    "tags": []
   },
   "outputs": [],
   "source": [
    "import tensorflow as tf"
   ]
  },
  {
   "cell_type": "code",
   "execution_count": null,
   "id": "e0751d4d",
   "metadata": {
    "execution": {
     "iopub.execute_input": "2024-04-28T13:11:42.822144Z",
     "iopub.status.busy": "2024-04-28T13:11:42.820677Z",
     "iopub.status.idle": "2024-04-28T13:11:42.829121Z",
     "shell.execute_reply": "2024-04-28T13:11:42.827270Z",
     "shell.execute_reply.started": "2024-04-28T13:11:42.822035Z"
    },
    "papermill": {
     "duration": null,
     "end_time": null,
     "exception": null,
     "start_time": null,
     "status": "pending"
    },
    "tags": []
   },
   "outputs": [],
   "source": [
    "def process_image(image_path, IMG_SIZE=224):\n",
    "\n",
    "    image = tf.io.read_file(image_path)\n",
    "    image = tf.io.decode_image(image, channels=3, expand_animations= False)\n",
    "    image = tf.image.convert_image_dtype(image, tf.float32)\n",
    "    image = tf.image.resize(image, size=[IMG_SIZE, IMG_SIZE])\n",
    "    return image"
   ]
  },
  {
   "cell_type": "code",
   "execution_count": null,
   "id": "1e45e742",
   "metadata": {
    "execution": {
     "iopub.execute_input": "2024-04-28T13:11:46.392208Z",
     "iopub.status.busy": "2024-04-28T13:11:46.391789Z",
     "iopub.status.idle": "2024-04-28T13:12:03.932517Z",
     "shell.execute_reply": "2024-04-28T13:12:03.930857Z",
     "shell.execute_reply.started": "2024-04-28T13:11:46.392172Z"
    },
    "papermill": {
     "duration": null,
     "end_time": null,
     "exception": null,
     "start_time": null,
     "status": "pending"
    },
    "tags": []
   },
   "outputs": [],
   "source": [
    "images_loc = []\n",
    "labels = []\n",
    "for i in os.listdir(\"/kaggle/input/forest-fire-dataset/Forest Fire Dataset/Training/nofire\"):\n",
    "    images_loc.append(process_image(\"/kaggle/input/forest-fire-dataset/Forest Fire Dataset/Training/nofire\"+\"/\"+i))\n",
    "    labels.append(0)\n",
    "for i in os.listdir(\"/kaggle/input/forest-fire-dataset/Forest Fire Dataset/Training/fire\"):\n",
    "    images_loc.append(process_image(\"/kaggle/input/forest-fire-dataset/Forest Fire Dataset/Training/fire\"+\"/\"+i))\n",
    "    labels.append(1)"
   ]
  },
  {
   "cell_type": "code",
   "execution_count": null,
   "id": "104d7102",
   "metadata": {
    "execution": {
     "iopub.execute_input": "2024-04-28T13:12:24.041270Z",
     "iopub.status.busy": "2024-04-28T13:12:24.040812Z",
     "iopub.status.idle": "2024-04-28T13:12:24.047796Z",
     "shell.execute_reply": "2024-04-28T13:12:24.046327Z",
     "shell.execute_reply.started": "2024-04-28T13:12:24.041232Z"
    },
    "papermill": {
     "duration": null,
     "end_time": null,
     "exception": null,
     "start_time": null,
     "status": "pending"
    },
    "tags": []
   },
   "outputs": [],
   "source": [
    "classnames = np.array([\"nofire\", \"fire\"])"
   ]
  },
  {
   "cell_type": "code",
   "execution_count": null,
   "id": "cdc4391a",
   "metadata": {
    "execution": {
     "iopub.execute_input": "2024-04-28T13:12:03.936099Z",
     "iopub.status.busy": "2024-04-28T13:12:03.935589Z",
     "iopub.status.idle": "2024-04-28T13:12:04.312001Z",
     "shell.execute_reply": "2024-04-28T13:12:04.310931Z",
     "shell.execute_reply.started": "2024-04-28T13:12:03.936056Z"
    },
    "papermill": {
     "duration": null,
     "end_time": null,
     "exception": null,
     "start_time": null,
     "status": "pending"
    },
    "tags": []
   },
   "outputs": [],
   "source": [
    "images_loc = np.array(images_loc)\n",
    "labels = np.array(labels)"
   ]
  },
  {
   "cell_type": "code",
   "execution_count": null,
   "id": "9c8fce32",
   "metadata": {
    "execution": {
     "iopub.execute_input": "2024-04-28T13:12:04.313231Z",
     "iopub.status.busy": "2024-04-28T13:12:04.312951Z",
     "iopub.status.idle": "2024-04-28T13:12:05.122559Z",
     "shell.execute_reply": "2024-04-28T13:12:05.120147Z",
     "shell.execute_reply.started": "2024-04-28T13:12:04.313207Z"
    },
    "papermill": {
     "duration": null,
     "end_time": null,
     "exception": null,
     "start_time": null,
     "status": "pending"
    },
    "tags": []
   },
   "outputs": [],
   "source": [
    "from sklearn.model_selection import train_test_split\n",
    "X_train, X_testy, y_train, y_testy = train_test_split(images_loc, labels, test_size = 0.3)"
   ]
  },
  {
   "cell_type": "code",
   "execution_count": null,
   "id": "5827fe7c",
   "metadata": {
    "execution": {
     "iopub.execute_input": "2024-04-28T13:12:05.126185Z",
     "iopub.status.busy": "2024-04-28T13:12:05.125737Z",
     "iopub.status.idle": "2024-04-28T13:12:05.171318Z",
     "shell.execute_reply": "2024-04-28T13:12:05.168983Z",
     "shell.execute_reply.started": "2024-04-28T13:12:05.126151Z"
    },
    "papermill": {
     "duration": null,
     "end_time": null,
     "exception": null,
     "start_time": null,
     "status": "pending"
    },
    "tags": []
   },
   "outputs": [],
   "source": [
    "X_val, X_test, y_val, y_test = train_test_split(X_testy, y_testy, test_size = 0.5)"
   ]
  },
  {
   "cell_type": "code",
   "execution_count": null,
   "id": "f05377f4",
   "metadata": {
    "execution": {
     "iopub.execute_input": "2024-04-28T13:12:05.175829Z",
     "iopub.status.busy": "2024-04-28T13:12:05.174335Z",
     "iopub.status.idle": "2024-04-28T13:12:05.185501Z",
     "shell.execute_reply": "2024-04-28T13:12:05.183051Z",
     "shell.execute_reply.started": "2024-04-28T13:12:05.175574Z"
    },
    "papermill": {
     "duration": null,
     "end_time": null,
     "exception": null,
     "start_time": null,
     "status": "pending"
    },
    "tags": []
   },
   "outputs": [],
   "source": [
    "len(X_test), len(y_test)"
   ]
  },
  {
   "cell_type": "code",
   "execution_count": null,
   "id": "531140d6",
   "metadata": {
    "execution": {
     "iopub.execute_input": "2024-04-28T13:12:07.260908Z",
     "iopub.status.busy": "2024-04-28T13:12:07.260431Z",
     "iopub.status.idle": "2024-04-28T13:12:07.268519Z",
     "shell.execute_reply": "2024-04-28T13:12:07.266744Z",
     "shell.execute_reply.started": "2024-04-28T13:12:07.260867Z"
    },
    "papermill": {
     "duration": null,
     "end_time": null,
     "exception": null,
     "start_time": null,
     "status": "pending"
    },
    "tags": []
   },
   "outputs": [],
   "source": [
    "import matplotlib.pyplot as plt\n",
    "def show_25_images(images, labels):\n",
    "    plt.figure(figsize=(10,10))\n",
    "    for i in range(25):\n",
    "        ax=plt.subplot(5,5,i+1)\n",
    "        plt.imshow(images[i])\n",
    "        plt.title(classnames[labels[i]])\n",
    "        plt.axis(\"off\")"
   ]
  },
  {
   "cell_type": "code",
   "execution_count": null,
   "id": "4117ef54",
   "metadata": {
    "execution": {
     "iopub.execute_input": "2024-04-28T13:12:33.506056Z",
     "iopub.status.busy": "2024-04-28T13:12:33.505622Z",
     "iopub.status.idle": "2024-04-28T13:12:35.475563Z",
     "shell.execute_reply": "2024-04-28T13:12:35.473775Z",
     "shell.execute_reply.started": "2024-04-28T13:12:33.506021Z"
    },
    "papermill": {
     "duration": null,
     "end_time": null,
     "exception": null,
     "start_time": null,
     "status": "pending"
    },
    "tags": []
   },
   "outputs": [],
   "source": [
    "show_25_images(X_train, y_train)"
   ]
  },
  {
   "cell_type": "markdown",
   "id": "6caa4857",
   "metadata": {
    "papermill": {
     "duration": null,
     "end_time": null,
     "exception": null,
     "start_time": null,
     "status": "pending"
    },
    "tags": []
   },
   "source": [
    "## Using Custom cnn"
   ]
  },
  {
   "cell_type": "code",
   "execution_count": null,
   "id": "e6a3d68b",
   "metadata": {
    "execution": {
     "iopub.execute_input": "2024-04-28T11:03:55.584988Z",
     "iopub.status.busy": "2024-04-28T11:03:55.584132Z",
     "iopub.status.idle": "2024-04-28T11:04:00.352844Z",
     "shell.execute_reply": "2024-04-28T11:04:00.351955Z",
     "shell.execute_reply.started": "2024-04-28T11:03:55.584942Z"
    },
    "papermill": {
     "duration": null,
     "end_time": null,
     "exception": null,
     "start_time": null,
     "status": "pending"
    },
    "tags": []
   },
   "outputs": [],
   "source": [
    "import tensorflow_hub as hub\n",
    "model = tf.keras.Sequential([\n",
    "   hub.KerasLayer(\"https://www.kaggle.com/models/google/mobilenet-v2/frameworks/TensorFlow2/variations/100-224-classification/versions/2\",\n",
    "               trainable=True, arguments=dict(batch_norm_momentum=0.997))\n",
    "])\n",
    "model.add(tf.keras.layers.Dense(6, activation='softmax'))\n",
    "model.build([None, 224, 224, 3]) "
   ]
  },
  {
   "cell_type": "code",
   "execution_count": null,
   "id": "66a6501a",
   "metadata": {
    "execution": {
     "iopub.execute_input": "2024-04-28T11:04:00.354460Z",
     "iopub.status.busy": "2024-04-28T11:04:00.354087Z",
     "iopub.status.idle": "2024-04-28T11:04:00.375837Z",
     "shell.execute_reply": "2024-04-28T11:04:00.374927Z",
     "shell.execute_reply.started": "2024-04-28T11:04:00.354429Z"
    },
    "papermill": {
     "duration": null,
     "end_time": null,
     "exception": null,
     "start_time": null,
     "status": "pending"
    },
    "tags": []
   },
   "outputs": [],
   "source": [
    "model.compile(optimizer='adam',\n",
    "              loss='sparse_categorical_crossentropy',\n",
    "              metrics=['accuracy'])"
   ]
  },
  {
   "cell_type": "code",
   "execution_count": null,
   "id": "0b7669a7",
   "metadata": {
    "execution": {
     "iopub.execute_input": "2024-04-28T11:04:00.377619Z",
     "iopub.status.busy": "2024-04-28T11:04:00.377224Z",
     "iopub.status.idle": "2024-04-28T11:04:00.408986Z",
     "shell.execute_reply": "2024-04-28T11:04:00.408082Z",
     "shell.execute_reply.started": "2024-04-28T11:04:00.377570Z"
    },
    "papermill": {
     "duration": null,
     "end_time": null,
     "exception": null,
     "start_time": null,
     "status": "pending"
    },
    "tags": []
   },
   "outputs": [],
   "source": [
    "model.summary()"
   ]
  },
  {
   "cell_type": "code",
   "execution_count": null,
   "id": "f96860e7",
   "metadata": {
    "execution": {
     "iopub.execute_input": "2024-04-28T11:04:00.412319Z",
     "iopub.status.busy": "2024-04-28T11:04:00.412043Z",
     "iopub.status.idle": "2024-04-28T11:04:00.417956Z",
     "shell.execute_reply": "2024-04-28T11:04:00.416926Z",
     "shell.execute_reply.started": "2024-04-28T11:04:00.412295Z"
    },
    "papermill": {
     "duration": null,
     "end_time": null,
     "exception": null,
     "start_time": null,
     "status": "pending"
    },
    "tags": []
   },
   "outputs": [],
   "source": [
    "checkpoint_callback = tf.keras.callbacks.ModelCheckpoint(\n",
    "    filepath='best_mobile_netv2.h5',\n",
    "    monitor='val_accuracy',\n",
    "    mode='max',\n",
    "    save_best_only=True,\n",
    "    verbose=1\n",
    ")"
   ]
  },
  {
   "cell_type": "code",
   "execution_count": null,
   "id": "54c5d371",
   "metadata": {
    "execution": {
     "iopub.execute_input": "2024-04-28T11:17:13.963070Z",
     "iopub.status.busy": "2024-04-28T11:17:13.962670Z",
     "iopub.status.idle": "2024-04-28T11:54:36.832333Z",
     "shell.execute_reply": "2024-04-28T11:54:36.831126Z",
     "shell.execute_reply.started": "2024-04-28T11:17:13.963040Z"
    },
    "papermill": {
     "duration": null,
     "end_time": null,
     "exception": null,
     "start_time": null,
     "status": "pending"
    },
    "tags": []
   },
   "outputs": [],
   "source": [
    "model.fit(x = X_train, \n",
    "          y = y_train,\n",
    "          epochs=25,\n",
    "          validation_data = (X_val, y_val),\n",
    "         callbacks = [checkpoint_callback])"
   ]
  },
  {
   "cell_type": "code",
   "execution_count": null,
   "id": "8ba28402",
   "metadata": {
    "execution": {
     "iopub.execute_input": "2024-04-28T11:54:36.835060Z",
     "iopub.status.busy": "2024-04-28T11:54:36.834340Z",
     "iopub.status.idle": "2024-04-28T11:54:42.194880Z",
     "shell.execute_reply": "2024-04-28T11:54:42.194110Z",
     "shell.execute_reply.started": "2024-04-28T11:54:36.835019Z"
    },
    "papermill": {
     "duration": null,
     "end_time": null,
     "exception": null,
     "start_time": null,
     "status": "pending"
    },
    "tags": []
   },
   "outputs": [],
   "source": [
    "model.evaluate(X_test, y_test)"
   ]
  },
  {
   "cell_type": "code",
   "execution_count": null,
   "id": "2d41c01b",
   "metadata": {
    "execution": {
     "iopub.execute_input": "2024-04-28T13:05:53.013541Z",
     "iopub.status.busy": "2024-04-28T13:05:53.013001Z",
     "iopub.status.idle": "2024-04-28T13:05:55.892094Z",
     "shell.execute_reply": "2024-04-28T13:05:55.890118Z",
     "shell.execute_reply.started": "2024-04-28T13:05:53.013506Z"
    },
    "papermill": {
     "duration": null,
     "end_time": null,
     "exception": null,
     "start_time": null,
     "status": "pending"
    },
    "tags": []
   },
   "outputs": [],
   "source": [
    "from PIL import Image\n",
    "import matplotlib.pyplot as plt\n",
    "img_path = input(\"Enter the image path for prediction : \")\n",
    "image = process_image(img_path) \n",
    "image = np.expand_dims(image, axis=0) \n",
    "p = np.argmax(model.predict(image))\n",
    "a = plt.imread(img_path)\n",
    "plt.title(f\"Prediction : {classnames[p]}\")\n",
    "plt.imshow(a)"
   ]
  },
  {
   "cell_type": "code",
   "execution_count": null,
   "id": "c19aafd5",
   "metadata": {
    "execution": {
     "iopub.status.busy": "2024-04-28T11:16:55.676842Z",
     "iopub.status.idle": "2024-04-28T11:16:55.677630Z",
     "shell.execute_reply": "2024-04-28T11:16:55.677368Z",
     "shell.execute_reply.started": "2024-04-28T11:16:55.677346Z"
    },
    "papermill": {
     "duration": null,
     "end_time": null,
     "exception": null,
     "start_time": null,
     "status": "pending"
    },
    "tags": []
   },
   "outputs": [],
   "source": [
    "model.save(\"best_mobile_netv2_2.keras\")"
   ]
  },
  {
   "cell_type": "code",
   "execution_count": null,
   "id": "a0531811",
   "metadata": {
    "papermill": {
     "duration": null,
     "end_time": null,
     "exception": null,
     "start_time": null,
     "status": "pending"
    },
    "tags": []
   },
   "outputs": [],
   "source": []
  },
  {
   "cell_type": "code",
   "execution_count": null,
   "id": "45286aa0",
   "metadata": {
    "papermill": {
     "duration": null,
     "end_time": null,
     "exception": null,
     "start_time": null,
     "status": "pending"
    },
    "tags": []
   },
   "outputs": [],
   "source": []
  }
 ],
 "metadata": {
  "kaggle": {
   "accelerator": "gpu",
   "dataSources": [
    {
     "datasetId": 2072281,
     "sourceId": 3440040,
     "sourceType": "datasetVersion"
    },
    {
     "modelInstanceId": 1077,
     "sourceId": 1273,
     "sourceType": "modelInstanceVersion"
    },
    {
     "modelInstanceId": 2598,
     "sourceId": 3644,
     "sourceType": "modelInstanceVersion"
    }
   ],
   "dockerImageVersionId": 30646,
   "isGpuEnabled": true,
   "isInternetEnabled": false,
   "language": "python",
   "sourceType": "notebook"
  },
  "kernelspec": {
   "display_name": "Python 3",
   "language": "python",
   "name": "python3"
  },
  "language_info": {
   "codemirror_mode": {
    "name": "ipython",
    "version": 3
   },
   "file_extension": ".py",
   "mimetype": "text/x-python",
   "name": "python",
   "nbconvert_exporter": "python",
   "pygments_lexer": "ipython3",
   "version": "3.10.13"
  },
  "papermill": {
   "default_parameters": {},
   "duration": null,
   "end_time": null,
   "environment_variables": {},
   "exception": null,
   "input_path": "__notebook__.ipynb",
   "output_path": "__notebook__.ipynb",
   "parameters": {},
   "start_time": "2024-04-28T21:01:33.090715",
   "version": "2.5.0"
  }
 },
 "nbformat": 4,
 "nbformat_minor": 5
}